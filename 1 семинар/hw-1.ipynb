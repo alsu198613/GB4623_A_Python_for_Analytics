{
 "cells": [
  {
   "cell_type": "markdown",
   "metadata": {},
   "source": [
    "## Задание 1\n",
    "Оформляйте ноутбук, используя эти советы:\n",
    "* Номер задачи - заголовок 2\n",
    "* Номер подзадачи - заголовок 3\n",
    "* Предоставленные наборы данных оформляйте, как код"
   ]
  },
  {
   "cell_type": "markdown",
   "metadata": {},
   "source": [
    "## Задание 2\n",
    "\n",
    "На складе лежат разные фрукты в разном количестве. Нужно написать функцию, которая на вход принимает любое\n",
    "количество названий фруктов и их количество, а возвращает общее количество фруктов на складе"
   ]
  },
  {
   "cell_type": "code",
   "execution_count": 10,
   "metadata": {},
   "outputs": [],
   "source": [
    "def total_fruits(**kwargs):\n",
    "    total = sum(kwargs.values())\n",
    "    return f'Total fruits: {total}'"
   ]
  },
  {
   "cell_type": "code",
   "execution_count": 11,
   "metadata": {},
   "outputs": [
    {
     "data": {
      "text/plain": [
       "'Total fruits: 20'"
      ]
     },
     "execution_count": 11,
     "metadata": {},
     "output_type": "execute_result"
    }
   ],
   "source": [
    "total_fruits(banana=5, mango=7, apple=8)"
   ]
  },
  {
   "cell_type": "markdown",
   "metadata": {},
   "source": [
    "## Задание 3 \n",
    "Дан список с затратами на рекламу. Но в данных есть ошибки, некоторые затраты имеют отрицательную величину. Удалите такие значения из списка и посчитайте суммарные затраты <br>\n",
    "`[100, 125, -90, 345, 655, -1, 0, 200]`<br>\n",
    "Используйте list comprehensions"
   ]
  },
  {
   "cell_type": "code",
   "execution_count": 14,
   "metadata": {},
   "outputs": [
    {
     "data": {
      "text/plain": [
       "1425"
      ]
     },
     "execution_count": 14,
     "metadata": {},
     "output_type": "execute_result"
    }
   ],
   "source": [
    "costs = [100, 125, -90, 345, 655, -1, 0, 200]\n",
    "total_costs = sum([i for i in costs if i > 0])\n",
    "total_costs"
   ]
  },
  {
   "cell_type": "markdown",
   "metadata": {},
   "source": [
    "## Задание 4 \n",
    "Даны два списка.<br>\n",
    "Дата покупки<br>\n",
    "```['2021-09-14', '2021-12-15', '2021-09-08', '2021-12-05', '2021-10-09', '2021-09-30', '2021-12-22', '2021-11-29', '2021-12-24', '2021-11-26', '2021-10-27', '2021-12-18', '2021-11-09', '2021-11-23', '2021-09-27', '2021-10-02', '2021-12-27', '2021-09-20', '2021-12-13', '2021-11-01', '2021-11-09', '2021-12-06', '2021-12-08', '2021-10-09', '2021-10-31', '2021-09-30', '2021-11-09', '2021-12-13', '2021-10-26', '2021-12-09']```<br>\n",
    "Суммы покупок по датам<br>\n",
    "```[1270, 8413, 9028, 3703, 5739, 4095, 295, 4944, 5723, 3701, 4471, 651, 7037, 4274, 6275, 4988, 6930, 2971, 6592, 2004, 2822, 519, 3406, 2732, 5015, 2008, 316, 6333, 5700, 2887]```"
   ]
  },
  {
   "cell_type": "markdown",
   "metadata": {},
   "source": [
    "### 4.1 Найдите, какая выручка у компании в ноябре\n",
    "Используйте list comprehensions"
   ]
  },
  {
   "cell_type": "code",
   "execution_count": 1,
   "metadata": {},
   "outputs": [],
   "source": [
    "purchase_dates = ['2021-09-14', '2021-12-15', '2021-09-08', '2021-12-05', '2021-10-09', \n",
    "                '2021-09-30', '2021-12-22', '2021-11-29', '2021-12-24', '2021-11-26', \n",
    "                '2021-10-27', '2021-12-18', '2021-11-09', '2021-11-23', '2021-09-27', \n",
    "                '2021-10-02', '2021-12-27', '2021-09-20', '2021-12-13', '2021-11-01', \n",
    "                '2021-11-09', '2021-12-06', '2021-12-08', '2021-10-09', '2021-10-31', \n",
    "                '2021-09-30', '2021-11-09', '2021-12-13', '2021-10-26', '2021-12-09']\n",
    "purchase_amounts = [1270, 8413, 9028, 3703, 5739, 4095, 295, 4944, 5723, 3701, \n",
    "                4471, 651, 7037, 4274, 6275, 4988, 6930, 2971, 6592, 2004, \n",
    "                2822, 519, 3406, 2732, 5015, 2008, 316, 6333, 5700, 2887]"
   ]
  },
  {
   "cell_type": "code",
   "execution_count": 27,
   "metadata": {},
   "outputs": [
    {
     "name": "stdout",
     "output_type": "stream",
     "text": [
      "Выручка компании в ноябре: 25098\n"
     ]
    }
   ],
   "source": [
    "revenue_november = sum([amount for date, amount in zip(purchase_dates, purchase_amounts) if date.startswith('2021-11')])\n",
    "print(\"Выручка компании в ноябре:\", revenue_november)"
   ]
  },
  {
   "cell_type": "code",
   "execution_count": 20,
   "metadata": {},
   "outputs": [],
   "source": [
    "def revenue_november(date_list, cost_list):\n",
    "    new_data = []\n",
    "    for i in range(len(date_list)):\n",
    "        if '-11-' in date_list[i]:\n",
    "            new_data.append(cost_list[i])\n",
    "    return new_data"
   ]
  },
  {
   "cell_type": "code",
   "execution_count": 21,
   "metadata": {},
   "outputs": [
    {
     "name": "stdout",
     "output_type": "stream",
     "text": [
      "[4944, 3701, 7037, 4274, 2004, 2822, 316]\n",
      "Profit: 25098\n"
     ]
    }
   ],
   "source": [
    "print(revenue_november(purchase_dates, purchase_amounts))\n",
    "print(f'Profit: {sum(revenue_november(purchase_dates, purchase_amounts))}')"
   ]
  },
  {
   "cell_type": "code",
   "execution_count": 22,
   "metadata": {},
   "outputs": [
    {
     "name": "stdout",
     "output_type": "stream",
     "text": [
      "[4944, 3701, 7037, 4274, 2004, 2822, 316]\n",
      "Revenue in November: 25098\n"
     ]
    }
   ],
   "source": [
    "print([purchase_amounts[i] for i in range(0, len(purchase_dates)) if \"-11-\" in purchase_dates[i]])\n",
    "print(f'Revenue in November: {sum([purchase_amounts[i] for i in range(len(purchase_dates)) if \"-11-\" in purchase_dates[i]])}')"
   ]
  },
  {
   "cell_type": "markdown",
   "metadata": {},
   "source": [
    "### 4.2 Найдите выручку компании в зависимости от месяца\n",
    "Для этого напишите функцию, которая на вход принимает список с датами и список с выручкой, а на выходе словарь, где\n",
    "ключи - это месяцы, а значения - это выручка.\n",
    "\n",
    "Используйте аннотирование типов."
   ]
  },
  {
   "cell_type": "code",
   "execution_count": 2,
   "metadata": {},
   "outputs": [
    {
     "name": "stdout",
     "output_type": "stream",
     "text": [
      "{'09': 25647, '12': 45452, '10': 28645, '11': 25098}\n"
     ]
    }
   ],
   "source": [
    "# 1 вариант\n",
    "def profits(data1: list, data2: list) -> dict:\n",
    "    \n",
    "    profits = {}\n",
    "    \n",
    "    for i in range(len(data1)):\n",
    "        \n",
    "        if data1[i].split('-')[1] in profits.keys():\n",
    "            profits[data1[i].split('-')[1]] += data2[i]\n",
    "        else:\n",
    "            profits[data1[i].split('-')[1]] = data2[i]\n",
    "            \n",
    "    return profits\n",
    "\n",
    "print(profits(purchase_dates, purchase_amounts))"
   ]
  },
  {
   "cell_type": "code",
   "execution_count": 29,
   "metadata": {},
   "outputs": [],
   "source": [
    "# 2 вариант\n",
    "def calculate_revenue_by_month(dates: list, amounts: list) -> dict:\n",
    "    revenue_by_month = {date[:7]: 0 for date in dates}  # Инициализация словаря с ключами-месяцами\n",
    "\n",
    "    # Вычисление выручки по месяцам\n",
    "    for date, amount in zip(dates, amounts):\n",
    "        month = date[:7]\n",
    "        revenue_by_month[month] += amount\n",
    "\n",
    "    return revenue_by_month"
   ]
  },
  {
   "cell_type": "code",
   "execution_count": 30,
   "metadata": {},
   "outputs": [
    {
     "name": "stdout",
     "output_type": "stream",
     "text": [
      "Выручка компании по месяцам:\n",
      "2021-09 : 25647\n",
      "2021-12 : 45452\n",
      "2021-10 : 28645\n",
      "2021-11 : 25098\n"
     ]
    }
   ],
   "source": [
    "revenue_by_month = calculate_revenue_by_month(purchase_dates, purchase_amounts)\n",
    "\n",
    "print(\"Выручка компании по месяцам:\")\n",
    "for month, revenue in revenue_by_month.items():\n",
    "    print(month, \":\", revenue)"
   ]
  }
 ],
 "metadata": {
  "kernelspec": {
   "display_name": "Python 3.7.0 32-bit",
   "language": "python",
   "name": "python3"
  },
  "language_info": {
   "codemirror_mode": {
    "name": "ipython",
    "version": 3
   },
   "file_extension": ".py",
   "mimetype": "text/x-python",
   "name": "python",
   "nbconvert_exporter": "python",
   "pygments_lexer": "ipython3",
   "version": "3.7.0"
  },
  "orig_nbformat": 4,
  "vscode": {
   "interpreter": {
    "hash": "efb4138dd8a1826051172b4f00f4c80459f13d4940aaae03de86eb8d198847b2"
   }
  }
 },
 "nbformat": 4,
 "nbformat_minor": 2
}
