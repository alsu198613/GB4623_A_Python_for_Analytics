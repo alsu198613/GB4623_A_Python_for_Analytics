{
 "cells": [
  {
   "cell_type": "markdown",
   "metadata": {},
   "source": [
    "## Задание 1\n",
    "### 1.1 Соедините два словаря в один\n"
   ]
  },
  {
   "cell_type": "code",
   "execution_count": 6,
   "metadata": {},
   "outputs": [],
   "source": [
    "dict1 = {'One': 1, 'Two': 2, 'Three': 3}\n",
    "dict2 = {'Four': 4, 'Five': 5, 'Six': 6}"
   ]
  },
  {
   "cell_type": "code",
   "execution_count": 8,
   "metadata": {},
   "outputs": [
    {
     "data": {
      "text/plain": [
       "{'One': 1, 'Two': 2, 'Three': 3, 'Four': 4, 'Five': 5, 'Six': 6}"
      ]
     },
     "execution_count": 8,
     "metadata": {},
     "output_type": "execute_result"
    }
   ],
   "source": [
    "dict1.update(dict2)\n",
    "dict1"
   ]
  },
  {
   "cell_type": "markdown",
   "metadata": {},
   "source": [
    "### 1.2 Напишите функцию, которая на вход принимает два словаря и возвращает один объединенный словарь\n",
    "Используйте аннотирование типов"
   ]
  },
  {
   "cell_type": "code",
   "execution_count": 9,
   "metadata": {},
   "outputs": [],
   "source": [
    "dict1 = {'One': 1, 'Two': 2, 'Three': 3}\n",
    "dict2 = {'Four': 4, 'Five': 5, 'Six': 6}"
   ]
  },
  {
   "cell_type": "code",
   "execution_count": 10,
   "metadata": {},
   "outputs": [],
   "source": [
    "def new_dict(dict1: dict, dict2: dict) -> dict:\n",
    "    dict1.update(dict2)\n",
    "    return dict1\n"
   ]
  },
  {
   "cell_type": "code",
   "execution_count": 11,
   "metadata": {},
   "outputs": [
    {
     "data": {
      "text/plain": [
       "{'One': 1, 'Two': 2, 'Three': 3, 'Four': 4, 'Five': 5, 'Six': 6}"
      ]
     },
     "execution_count": 11,
     "metadata": {},
     "output_type": "execute_result"
    }
   ],
   "source": [
    "new_dict(dict1, dict2)"
   ]
  },
  {
   "cell_type": "markdown",
   "metadata": {},
   "source": [
    "## Задание 2\n",
    "Напишите функцию, которая из двух списков, делает один словарь, где элементы из первого списка - ключи, а элементы из второго списка -\n",
    "значения \n",
    "\n",
    "Используйте аннотирование типов\n",
    "### 2.1 Используя цикл for"
   ]
  },
  {
   "cell_type": "code",
   "execution_count": 18,
   "metadata": {},
   "outputs": [],
   "source": [
    "keys = ['One', 'Two', 'Three']\n",
    "values = [1, 2, 3]"
   ]
  },
  {
   "cell_type": "code",
   "execution_count": 19,
   "metadata": {},
   "outputs": [],
   "source": [
    "def dict_from_list(keys: list, values: list) -> dict:\n",
    "    new_dict = {}\n",
    "    # new_dict = {[keys[i]] = values[i] for i in range(len(keys))}\n",
    "    for k in range(len(keys)):\n",
    "        new_dict[keys[k]] = values[k]\n",
    "    return new_dict"
   ]
  },
  {
   "cell_type": "code",
   "execution_count": 20,
   "metadata": {},
   "outputs": [
    {
     "data": {
      "text/plain": [
       "{'One': 1, 'Two': 2, 'Three': 3}"
      ]
     },
     "execution_count": 20,
     "metadata": {},
     "output_type": "execute_result"
    }
   ],
   "source": [
    "dict_from_list(keys, values)"
   ]
  },
  {
   "cell_type": "markdown",
   "metadata": {},
   "source": [
    "### 2.2 Используя dict comprehensions"
   ]
  },
  {
   "cell_type": "code",
   "execution_count": 21,
   "metadata": {},
   "outputs": [],
   "source": [
    "def dict_from_list(keys: list, values: list) -> dict:\n",
    "    return {keys[i]: values[i] for i in range(len(keys))}"
   ]
  },
  {
   "cell_type": "code",
   "execution_count": 23,
   "metadata": {},
   "outputs": [
    {
     "data": {
      "text/plain": [
       "{'One': 1, 'Two': 2, 'Three': 3}"
      ]
     },
     "execution_count": 23,
     "metadata": {},
     "output_type": "execute_result"
    }
   ],
   "source": [
    "dict_from_list(keys, values)"
   ]
  },
  {
   "cell_type": "markdown",
   "metadata": {},
   "source": [
    "## Задание 3\n",
    "Извлеките только два ключа name и age из представленного словаря\n",
    "### 3.1 Напишите функцию с циклом for\n",
    "Функция на вход принимает:\n",
    "* исходный словарь\n",
    "* ключи, которые нужно извлечь (аргумент по умолчанию)\n",
    "\n",
    "На выходе словарь с нужными ключами\n",
    "\n",
    "Используйте аннотирование типов"
   ]
  },
  {
   "cell_type": "code",
   "execution_count": 3,
   "metadata": {},
   "outputs": [],
   "source": [
    "client_dict = {\n",
    "\"name\": \"John\",\n",
    "\"age\": 25,\n",
    "\"salary\": 5000,\n",
    "\"city\": \"Moscow\"\n",
    "}"
   ]
  },
  {
   "cell_type": "code",
   "execution_count": 26,
   "metadata": {},
   "outputs": [],
   "source": [
    "def dict_with_2_params(dictionary: dict, my_list: list) -> dict:\n",
    "    new_dict = {}\n",
    "    for item in my_list:\n",
    "        new_dict.update({item:dictionary.get(item)})\n",
    "    return new_dict"
   ]
  },
  {
   "cell_type": "code",
   "execution_count": 27,
   "metadata": {},
   "outputs": [
    {
     "data": {
      "text/plain": [
       "{'name': 'John', 'age': 25}"
      ]
     },
     "execution_count": 27,
     "metadata": {},
     "output_type": "execute_result"
    }
   ],
   "source": [
    "dict_with_2_params(client_dict, ['name', 'age'])"
   ]
  },
  {
   "cell_type": "markdown",
   "metadata": {},
   "source": [
    "### 3.2 Используя dict comprehensions"
   ]
  },
  {
   "cell_type": "code",
   "execution_count": 1,
   "metadata": {},
   "outputs": [],
   "source": [
    "def dict_with_2_params(dictionary: dict, my_list: list) -> dict:\n",
    "    return {item:dictionary.get(item) for item in my_list}"
   ]
  },
  {
   "cell_type": "code",
   "execution_count": 4,
   "metadata": {},
   "outputs": [
    {
     "data": {
      "text/plain": [
       "{'name': 'John', 'salary': 5000}"
      ]
     },
     "execution_count": 4,
     "metadata": {},
     "output_type": "execute_result"
    }
   ],
   "source": [
    "dict_with_2_params(client_dict, ['name', 'salary'])"
   ]
  },
  {
   "cell_type": "markdown",
   "metadata": {},
   "source": [
    "Задание 4.\n",
    "\n",
    "4.1 Сгенерируйте случайные целые числа от 0 до 100 в количестве 5 штук с помощью модуля random\n",
    "\n",
    "* Зафиксируйте псевдогенерацию, чтобы сгенерированные значения всегда были одинаковые\n",
    "* Используйте list comprehensions"
   ]
  },
  {
   "cell_type": "code",
   "execution_count": 10,
   "metadata": {},
   "outputs": [
    {
     "name": "stdout",
     "output_type": "stream",
     "text": [
      "[17, 72, 97, 8, 32]\n"
     ]
    }
   ],
   "source": [
    "import random\n",
    "random.seed(1)\n",
    "random_list = []\n",
    "for i in range(5):\n",
    "    random_list.append(random.randint(0, 101))\n",
    "print(random_list)    "
   ]
  },
  {
   "cell_type": "code",
   "execution_count": 14,
   "metadata": {},
   "outputs": [
    {
     "data": {
      "text/plain": [
       "[17, 72, 97, 8, 32]"
      ]
     },
     "execution_count": 14,
     "metadata": {},
     "output_type": "execute_result"
    }
   ],
   "source": [
    "random.seed(1)\n",
    "random_list_5 = [random.randint(0, 101) for i in range(5)]\n",
    "random_list_5"
   ]
  },
  {
   "cell_type": "markdown",
   "metadata": {},
   "source": [
    "Задание 5.\n",
    "\n",
    "5.1 Найдите картинку в интернете и прикрепите её в ячейку с текстом (ячейка должна быть Markdown)\n",
    "\n"
   ]
  },
  {
   "cell_type": "markdown",
   "metadata": {},
   "source": [
    "<img src = 'https://w.forfun.com/fetch/fa/fa736a208190faaf77cc70db39507fb0.jpeg?w=1200&r=0.5625'>"
   ]
  },
  {
   "cell_type": "markdown",
   "metadata": {},
   "source": [
    "5.2 Создайте следующую таблицу в ячейке с текстом"
   ]
  },
  {
   "cell_type": "markdown",
   "metadata": {},
   "source": [
    "<table>\n",
    "    <tr>\n",
    "        <td> </td>\n",
    "        <td>До события</td>\n",
    "        <td>Во время события</td>\n",
    "    </tr>\n",
    "    <tr>\n",
    "        <td>1 контрольная точка</td>\n",
    "        <td>250</td>\n",
    "        <td>500</td>\n",
    "    </tr>\n",
    "    <tr>\n",
    "        <td>2 контрольная точка</td>\n",
    "        <td>350</td>\n",
    "        <td>700</td>\n",
    "    </tr>\n",
    "    <tr>\n",
    "        <td>3 контрольная точка</td>\n",
    "        <td>400</td>\n",
    "        <td>800</td>\n",
    "    </tr>\n",
    "    <tr></tr>\n",
    "    <tr>\n",
    "        <td>Итого за победу</td>\n",
    "        <td>1000</td>\n",
    "        <td>2000</td>\n",
    "    </tr>"
   ]
  },
  {
   "cell_type": "markdown",
   "metadata": {},
   "source": [
    "2 ВАРИАНТ\n",
    "\n",
    "|                       | До события    | Во время события  |\n",
    "| --------------------- | ------------- | ----------------  |\n",
    "| 1 контрольная точка   | 250           | 500               | \n",
    "| 2 контрольная точка   | 350           | 700               |\n",
    "| 3 контрольная точка   | 400           | 800               |             \n",
    "| Итого за победу       | 1000          | 2000              |"
   ]
  },
  {
   "cell_type": "markdown",
   "metadata": {},
   "source": [
    "Задание 6.\n",
    "\n",
    "Напишите функцию, которая может принимать любое количество трат пользователя и считать сумму и среднее.\n",
    "* На вход поступают целочисленные значения в любом количестве\n",
    "* На выходе словарь с ключами суммы трат и средней траты"
   ]
  },
  {
   "cell_type": "code",
   "execution_count": 20,
   "metadata": {},
   "outputs": [],
   "source": [
    "def culc_sum_mean(*args):\n",
    "    total = sum(args)\n",
    "    mean_purchase = total / len(args)\n",
    "    return {'сумма трат': total, 'средняя трата': mean_purchase}"
   ]
  },
  {
   "cell_type": "code",
   "execution_count": 21,
   "metadata": {},
   "outputs": [
    {
     "name": "stdout",
     "output_type": "stream",
     "text": [
      "{'сумма трат': 15, 'средняя трата': 3.0}\n"
     ]
    }
   ],
   "source": [
    "print(culc_sum_mean(1, 2, 3, 4, 5))"
   ]
  }
 ],
 "metadata": {
  "kernelspec": {
   "display_name": "Python 3.7.0 32-bit",
   "language": "python",
   "name": "python3"
  },
  "language_info": {
   "codemirror_mode": {
    "name": "ipython",
    "version": 3
   },
   "file_extension": ".py",
   "mimetype": "text/x-python",
   "name": "python",
   "nbconvert_exporter": "python",
   "pygments_lexer": "ipython3",
   "version": "3.7.0"
  },
  "orig_nbformat": 4,
  "vscode": {
   "interpreter": {
    "hash": "efb4138dd8a1826051172b4f00f4c80459f13d4940aaae03de86eb8d198847b2"
   }
  }
 },
 "nbformat": 4,
 "nbformat_minor": 2
}
