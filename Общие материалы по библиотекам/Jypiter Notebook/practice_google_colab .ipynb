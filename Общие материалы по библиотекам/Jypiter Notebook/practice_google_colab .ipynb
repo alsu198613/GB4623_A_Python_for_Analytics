{
  "cells": [
    {
      "cell_type": "markdown",
      "metadata": {
        "id": "KEa_AlOgMASk"
      },
      "source": [
        "В этом ноутбуке представлены практические задания по теме \"Google Colab\".\n",
        "\n",
        "Выполняйте действия, пишите код в предоставленных местах и подкрепляйте свои теоретические знания практическими.\n",
        "\n",
        "Удачи!"
      ]
    },
    {
      "cell_type": "markdown",
      "metadata": {
        "id": "2-iTaaenMauH"
      },
      "source": [
        "## 1. Копирование ноутбука\n",
        "\n",
        "Сейчас в этом ноутбуке вы можете писать всё, что хотите, но изменения сохраняться не будут.\n",
        "\n",
        "Что нужно сделать, чтобы вы могли редактировать данный ноутбук?"
      ]
    },
    {
      "cell_type": "code",
      "execution_count": null,
      "metadata": {
        "colab": {
          "base_uri": "https://localhost:8080/"
        },
        "id": "nqe3onWlMzoO",
        "outputId": "fef46bfa-1e4d-4a2a-ff11-11773ced53d8"
      },
      "outputs": [
        {
          "data": {
            "text/plain": [
              "1"
            ]
          },
          "execution_count": 4,
          "metadata": {},
          "output_type": "execute_result"
        }
      ],
      "source": [
        "0 + 1  # Делайте действия - создала копию на диске"
      ]
    },
    {
      "cell_type": "markdown",
      "metadata": {
        "id": "qfuXQAcdMqcr"
      },
      "source": [
        "## 2. Где находится ноутбук?\n",
        "\n",
        "После первого задания у вас появилась своя копия ноутбука. Но как понять, где именно на вашем google диске он появился?\n",
        "\n",
        "Найдите свой ноутбук"
      ]
    },
    {
      "cell_type": "code",
      "execution_count": null,
      "metadata": {
        "colab": {
          "base_uri": "https://localhost:8080/"
        },
        "id": "-W5fDTAVM8If",
        "outputId": "b5ea22db-2cdc-4287-c35f-936879469b6b"
      },
      "outputs": [
        {
          "data": {
            "text/plain": [
              "2"
            ]
          },
          "execution_count": 5,
          "metadata": {},
          "output_type": "execute_result"
        }
      ],
      "source": [
        "1 + 1   # Делайте действия - выбрать Файл - Показать расположение на диске"
      ]
    },
    {
      "cell_type": "markdown",
      "metadata": {
        "id": "k1sBuUUsM-F3"
      },
      "source": [
        "## 3. Создание ячейки с кодом\n",
        "\n",
        "Пора писать код в ячейках, но как можно создать новую ячейку с кодом?\n",
        "\n",
        "Примените 4 разных способа по созданию ячейки с кодом."
      ]
    },
    {
      "cell_type": "code",
      "execution_count": null,
      "metadata": {
        "colab": {
          "base_uri": "https://localhost:8080/"
        },
        "id": "UYw9w6SgNO59",
        "outputId": "0875ecef-7f61-47e9-8d34-b4e155dde053"
      },
      "outputs": [
        {
          "data": {
            "text/plain": [
              "3"
            ]
          },
          "execution_count": 9,
          "metadata": {},
          "output_type": "execute_result"
        }
      ],
      "source": [
        "1 + 2  # Делайте действия - нажать клавишу А или В"
      ]
    },
    {
      "cell_type": "code",
      "execution_count": null,
      "metadata": {
        "id": "s2hhxlkuF3N-"
      },
      "outputs": [],
      "source": [
        "a = 1  # выбрать + Код вверху блокнота или под (над) ячейкой\n",
        "b = 2"
      ]
    },
    {
      "cell_type": "code",
      "execution_count": null,
      "metadata": {
        "colab": {
          "base_uri": "https://localhost:8080/"
        },
        "id": "8pKTErlrGVLh",
        "outputId": "2ad56e42-4193-4534-93b5-332ddcb1d9f2"
      },
      "outputs": [
        {
          "data": {
            "text/plain": [
              "3"
            ]
          },
          "execution_count": 11,
          "metadata": {},
          "output_type": "execute_result"
        }
      ],
      "source": [
        "a + b  # выполнить ячейку, нажав alt + shift"
      ]
    },
    {
      "cell_type": "markdown",
      "metadata": {
        "id": "yYMFBMs9NQhl"
      },
      "source": [
        "## 4. Выполнение ячейки\n",
        "\n",
        "Напишите сложение переменной a=7 и переменной b=9 и выведите результат на экран в одной ячейки.\n",
        "\n",
        "Выполните эту ячейку 4 разными способами."
      ]
    },
    {
      "cell_type": "code",
      "execution_count": null,
      "metadata": {
        "colab": {
          "base_uri": "https://localhost:8080/"
        },
        "id": "fImssH4pNpe0",
        "outputId": "c7155544-95ed-42af-b7ee-253d931e9dfc"
      },
      "outputs": [
        {
          "data": {
            "text/plain": [
              "16"
            ]
          },
          "execution_count": 12,
          "metadata": {},
          "output_type": "execute_result"
        }
      ],
      "source": [
        "# Ваш код здесь\n",
        "a = 7\n",
        "b = 9\n",
        "a + b"
      ]
    },
    {
      "cell_type": "markdown",
      "metadata": {
        "id": "rSYGvHdINreJ"
      },
      "source": [
        "## 5. Удаление ячейки\n",
        "\n",
        "Тут есть лишняя ячейка, её нужно удалить.\n"
      ]
    },
    {
      "cell_type": "markdown",
      "metadata": {
        "id": "Sh7606TZUemd"
      },
      "source": [
        "## 6. Создание ячейки с текстом\n",
        "\n",
        "Создайте ячейку с текстом 3 способами."
      ]
    },
    {
      "cell_type": "markdown",
      "metadata": {
        "id": "64fKjPE6UrJo"
      },
      "source": [
        "# Делайте действия - + Текст вверху ноутбука или над (под) ячейкой\n",
        "# нажать А или В и переделать ячейку в текст ctrl + m + m"
      ]
    },
    {
      "cell_type": "markdown",
      "metadata": {
        "id": "ow_ayOokUsQT"
      },
      "source": [
        "## 7. Работа с файлами"
      ]
    },
    {
      "cell_type": "markdown",
      "metadata": {
        "id": "SDtp6oLFUwiQ"
      },
      "source": [
        "Загрузите сюда любой файл с вашего компьютера 3 способами."
      ]
    },
    {
      "cell_type": "code",
      "execution_count": null,
      "metadata": {
        "colab": {
          "background_save": true
        },
        "id": "fMniCL9PU5dA"
      },
      "outputs": [],
      "source": [
        "# Делайте действия - перетащить файл из папки\n",
        "# Через модель files\n",
        "from google.colab import files\n",
        "files.upload()"
      ]
    },
    {
      "cell_type": "code",
      "execution_count": null,
      "metadata": {
        "id": "p9RaueVEIOSR"
      },
      "outputs": [],
      "source": [
        "# Подключение google drive"
      ]
    },
    {
      "cell_type": "code",
      "source": [],
      "metadata": {
        "id": "F8AgMCZ5IxYs"
      },
      "execution_count": null,
      "outputs": []
    },
    {
      "cell_type": "code",
      "source": [
        "from google.colab import drive\n",
        "drive.mount('/content/drive')"
      ],
      "metadata": {
        "colab": {
          "base_uri": "https://localhost:8080/"
        },
        "id": "_XbCkBDYIyus",
        "outputId": "cedfe096-626d-41f3-840f-37958d024b44"
      },
      "execution_count": null,
      "outputs": [
        {
          "output_type": "stream",
          "name": "stdout",
          "text": [
            "Mounted at /content/drive\n"
          ]
        }
      ]
    }
  ],
  "metadata": {
    "colab": {
      "provenance": []
    },
    "kernelspec": {
      "display_name": "Python 3",
      "name": "python3"
    },
    "language_info": {
      "name": "python"
    }
  },
  "nbformat": 4,
  "nbformat_minor": 0
}