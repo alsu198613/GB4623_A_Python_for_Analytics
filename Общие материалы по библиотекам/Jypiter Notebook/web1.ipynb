{
 "cells": [
  {
   "cell_type": "markdown",
   "metadata": {},
   "source": [
    "## Начало работы с Jupyter Notebook - заголовок 2 уровня"
   ]
  },
  {
   "cell_type": "markdown",
   "metadata": {},
   "source": [
    "### Вызов справки - заголовок 3 уровня"
   ]
  },
  {
   "cell_type": "code",
   "execution_count": 2,
   "metadata": {},
   "outputs": [
    {
     "name": "stdout",
     "output_type": "stream",
     "text": [
      "\u001b[1;31mDocstring:\u001b[0m\n",
      "print(value, ..., sep=' ', end='\\n', file=sys.stdout, flush=False)\n",
      "\n",
      "Prints the values to a stream, or to sys.stdout by default.\n",
      "Optional keyword arguments:\n",
      "file:  a file-like object (stream); defaults to the current sys.stdout.\n",
      "sep:   string inserted between values, default a space.\n",
      "end:   string appended after the last value, default a newline.\n",
      "flush: whether to forcibly flush the stream.\n",
      "\u001b[1;31mType:\u001b[0m      builtin_function_or_method\n"
     ]
    }
   ],
   "source": [
    "?print"
   ]
  },
  {
   "cell_type": "markdown",
   "metadata": {},
   "source": [
    "### Выполнение команд shell твоей ОС"
   ]
  },
  {
   "cell_type": "code",
   "execution_count": 3,
   "metadata": {},
   "outputs": [
    {
     "data": {
      "text/plain": [
       "'d:\\\\полученные файлы\\\\Обучение - Разработчик\\\\Специализация - Аналитик\\\\I четверть\\\\GB4623_A_Python_for_Analytics\\\\Общие материалы по библиотекам\\\\Jypiter Notebook'"
      ]
     },
     "execution_count": 3,
     "metadata": {},
     "output_type": "execute_result"
    }
   ],
   "source": [
    "%pwd"
   ]
  },
  {
   "cell_type": "code",
   "execution_count": 4,
   "metadata": {},
   "outputs": [
    {
     "name": "stdout",
     "output_type": "stream",
     "text": [
      "'Hello world!'\n"
     ]
    }
   ],
   "source": [
    "!echo 'Hello world!'"
   ]
  },
  {
   "cell_type": "code",
   "execution_count": 5,
   "metadata": {},
   "outputs": [
    {
     "name": "stdout",
     "output_type": "stream",
     "text": [
      " ��� � ���ன�⢥ D �� ����� ��⪨.\n",
      " ��਩�� ����� ⮬�: D008-4177\n",
      "\n",
      " ����ন��� ����� d:\\����祭�� 䠩��\\���祭�� - ���ࠡ��稪\\���樠������ - �����⨪\\I �⢥���\\GB4623_A_Python_for_Analytics\\��騥 ���ਠ�� �� ������⥪��\\Jypiter Notebook\n",
      "\n",
      "22.08.2023  09:01    <DIR>          .\n",
      "22.08.2023  09:01    <DIR>          ..\n",
      "22.08.2023  09:01            10�424 web1.ipynb\n",
      "               1 䠩���         10�424 ����\n",
      "               2 �����  82�124�488�704 ���� ᢮�����\n"
     ]
    }
   ],
   "source": [
    "%ls"
   ]
  },
  {
   "cell_type": "code",
   "execution_count": 6,
   "metadata": {},
   "outputs": [
    {
     "name": "stdout",
     "output_type": "stream",
     "text": [
      "Wall time: 15 ms\n"
     ]
    }
   ],
   "source": [
    "%%time\n",
    "for i in range(100000):\n",
    "    pass"
   ]
  },
  {
   "cell_type": "code",
   "execution_count": 7,
   "metadata": {},
   "outputs": [
    {
     "name": "stdout",
     "output_type": "stream",
     "text": [
      "682 ns ± 41.3 ns per loop (mean ± std. dev. of 7 runs, 1000000 loops each)\n"
     ]
    }
   ],
   "source": [
    "%%timeit\n",
    "2**100"
   ]
  },
  {
   "cell_type": "markdown",
   "metadata": {},
   "source": [
    "### Горячие клавиши"
   ]
  },
  {
   "cell_type": "markdown",
   "metadata": {},
   "source": [
    "#### **Command Mode** (press Esc to enable)\n",
    "- Up : select cell above\n",
    "- Down : select cell below"
   ]
  },
  {
   "cell_type": "markdown",
   "metadata": {},
   "source": [
    "- Shift-Enter : run cell, select below\n",
    "- Ctrl-Enter : run selected cells\n",
    "- Alt-Enter : run cell and insert below"
   ]
  },
  {
   "cell_type": "markdown",
   "metadata": {},
   "source": [
    "\n",
    "- F : find and replace"
   ]
  },
  {
   "cell_type": "code",
   "execution_count": 4,
   "metadata": {},
   "outputs": [],
   "source": [
    "num = 5\n",
    "num += 1\n",
    "num -= 10"
   ]
  },
  {
   "cell_type": "markdown",
   "metadata": {},
   "source": [
    "- A : insert cell above\n",
    "- B : insert cell below\n",
    "- X : cut selected cells\n",
    "- C : copy selected cells\n",
    "- V : paste cells below"
   ]
  },
  {
   "cell_type": "markdown",
   "metadata": {},
   "source": [
    "- Y : change cell to code\n",
    "- M : change cell to markdown\n",
    "\n",
    "- 1 : change cell to heading 1\n",
    "- 2 : change cell to heading 2\n",
    "- 3 : change cell to heading 3\n",
    "- 4 : change cell to heading 4\n",
    "- 5 : change cell to heading 5\n",
    "- 6 : change cell to heading 6\n",
    "\n"
   ]
  },
  {
   "cell_type": "markdown",
   "metadata": {},
   "source": [
    "### Язык разметки Markdown\n",
    "**жирный** \n",
    "__fdgdfg__<br>\n",
    "*курсив*    \n",
    "_fgfd_\n",
    "- список\n",
    "* список\n",
    "1. список 1\n",
    "\n",
    "Latex - формулы\n",
    "$$\\frac{1}{n} \\sum{x_ij}$$\n",
    "\n",
    "<img src=''>\n",
    "\n",
    "Таблица\n",
    "<table>\n",
    "    <tr>\n",
    "        <td>\n",
    "            fvfv\n",
    "            </td>\n",
    "        </tr>\n",
    "    </table>\n",
    "\n",
    "Emphasis, aka italics, with asterisks or underscores.Strong emphasis, aka bold, with asterisks or underscores.Combined emphasis with asterisks and underscores.Strikethrough uses two tildes ~ . Scratch this."
   ]
  },
  {
   "cell_type": "markdown",
   "metadata": {},
   "source": [
    "- L : toggle line numbers\n",
    "- H : show keyboard shortcuts\n",
    "- I,I : interrupt the kernel\n",
    "- 0,0 : restart the kernel (with dialog)"
   ]
  },
  {
   "cell_type": "markdown",
   "metadata": {},
   "source": [
    "### **Edit Mode** (press Enter to enable)\n",
    "\n",
    "- Ctrl-A : select all.\n",
    "- Ctrl Home : go to cell start.\n",
    "- Ctrl End : go to cell end.\n",
    "- Ctrl Left : go one word left.\n",
    "- Ctrl Right : go one word right."
   ]
  },
  {
   "cell_type": "markdown",
   "metadata": {},
   "source": [
    "- Tab : code completion or indent\n",
    "- Shift-Tab : tooltip"
   ]
  },
  {
   "cell_type": "markdown",
   "metadata": {},
   "source": [
    "- Ctrl-Z : undo\n",
    "- Ctrl-/ : comment\n",
    "- Ctrl-D : delete whole line"
   ]
  }
 ],
 "metadata": {
  "kernelspec": {
   "display_name": "Python 3.7.0 32-bit",
   "language": "python",
   "name": "python3"
  },
  "language_info": {
   "codemirror_mode": {
    "name": "ipython",
    "version": 3
   },
   "file_extension": ".py",
   "mimetype": "text/x-python",
   "name": "python",
   "nbconvert_exporter": "python",
   "pygments_lexer": "ipython3",
   "version": "3.7.0"
  },
  "vscode": {
   "interpreter": {
    "hash": "efb4138dd8a1826051172b4f00f4c80459f13d4940aaae03de86eb8d198847b2"
   }
  }
 },
 "nbformat": 4,
 "nbformat_minor": 2
}
